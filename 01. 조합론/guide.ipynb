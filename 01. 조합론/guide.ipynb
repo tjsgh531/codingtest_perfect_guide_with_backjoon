{
 "cells": [
  {
   "cell_type": "markdown",
   "metadata": {},
   "source": [
    "# 조합론\n",
    "\n",
    "순열, 조합, 중복 순열, 중복 조합 등에 관한 문제이다. \n",
    "\n",
    "itertools라이브러리, 백트레킹, 동적 프로그래밍(DP)의 방법을 사용하여 푸는 것이 정석이다.\n",
    "\n",
    "어떤 조합이 있는지를 묻는 것이 아니라 단순히 조합의 개수를 묻는 것이라면 단순 수학 구현 방식이 시간 복자도와 공간 복잡도 측면에서 유리하다.\n",
    "\n",
    "특히 '다리놓기' 문제에서는 특수한 기법들을 사용하여 풀면 시간 초과가 발생한다.\n",
    "\n",
    "따라서 단순하게 수학 공식을 구현하는 방법 또한 터득해 두어야한다.\n",
    "\n",
    "## 목록\n",
    "\n",
    "|문제|난이도|중요도|문제유형|내용|\n",
    "|---|---|---|---|-----|\n",
    "|베라의 페션|★☆☆☆☆|★★☆☆☆|순열|순열 템플릿 사용 기초문제|\n",
    "|녹색거탑|★☆☆☆☆|★☆☆☆☆|구현, 중복순열|구현 문제. 중복 순열을 응용해서 해결 할 수 있지만 굳이??|\n",
    "|팩토리얼|★☆☆☆☆|★☆☆☆☆|구현, 순열|구현 문제. 순열 응용해서 해결 할 수 있지만 이것도 굳이??|\n",
    "|이항 계수 1|★☆☆☆☆|★☆☆☆☆|구현, 순열|구현 문제. 순열 응용해서 해결 할 수 있지만 이것도 굳이??|\n",
    "|다리 놓기|★★☆☆☆|★☆☆☆☆|조합|조합 응용 문제|\n"
   ]
  },
  {
   "cell_type": "markdown",
   "metadata": {},
   "source": [
    "## Template - 조합\n",
    "\n",
    "단순 수학 구현에서 answer //= i 부분을 answer /= i 로 구현하면 부동 소수점 문제가 발생한다.\n",
    "부동 소수점 문제에 대해 정확히 이해하려면 컴퓨터가 소수점을 어떻게 저장하고 계산하는지에 대한 이해가 필요하다.\n",
    "\n",
    "연습문제\n",
    "\n",
    "6개의 인형 중 2개의 인형을 고르는 경우는 총 몇가지 인가?\n"
   ]
  },
  {
   "cell_type": "code",
   "execution_count": 1,
   "metadata": {},
   "outputs": [
    {
     "name": "stdout",
     "output_type": "stream",
     "text": [
      "15\n"
     ]
    }
   ],
   "source": [
    "# 단순 수학 구현\n",
    "\n",
    "N = 6\n",
    "M = 2\n",
    "answer = 1\n",
    "\n",
    "for i in range(N, N-M, -1):\n",
    "    answer *= i\n",
    "\n",
    "for i in range(M, 1, -1):\n",
    "    answer //=i\n",
    "\n",
    "print(answer)"
   ]
  },
  {
   "cell_type": "code",
   "execution_count": 13,
   "metadata": {},
   "outputs": [
    {
     "name": "stdout",
     "output_type": "stream",
     "text": [
      "15\n"
     ]
    }
   ],
   "source": [
    "# itertool을 활용한 풀이법\n",
    "from itertools import combinations\n",
    "\n",
    "N = 6\n",
    "M = 2\n",
    "answer = len(list(combinations(range(N), M)))\n",
    "print(answer)\n"
   ]
  },
  {
   "cell_type": "code",
   "execution_count": 23,
   "metadata": {},
   "outputs": [
    {
     "name": "stdout",
     "output_type": "stream",
     "text": [
      "15\n"
     ]
    }
   ],
   "source": [
    "# 백트레킹 활용한 풀이법\n",
    "N = 6\n",
    "M = 2\n",
    "num_list = range(N)\n",
    "\n",
    "answer = 0\n",
    "cur_list = []\n",
    "def backtracking(k):\n",
    "    global answer, cur_list\n",
    "    if len(cur_list) == M:\n",
    "        answer += 1\n",
    "        return\n",
    "\n",
    "    for i in num_list[k:]:\n",
    "        if i not in cur_list:\n",
    "            cur_list.append(i)\n",
    "            backtracking(i)\n",
    "            cur_list.pop()\n",
    "\n",
    "backtracking(0)\n",
    "print(answer)"
   ]
  },
  {
   "cell_type": "markdown",
   "metadata": {},
   "source": [
    "# Template - 순열\n",
    "\n",
    "연습문제\n",
    "\n",
    "학생 10명준 반장 1명 부반장 1명을 뽑는 경우의 수를 구하세요."
   ]
  },
  {
   "cell_type": "code",
   "execution_count": 3,
   "metadata": {},
   "outputs": [
    {
     "name": "stdout",
     "output_type": "stream",
     "text": [
      "90\n"
     ]
    }
   ],
   "source": [
    "# 단순 수학 구현\n",
    "N = 10\n",
    "M = 2\n",
    "answer = 1\n",
    "\n",
    "for i in range(N, N-M, -1):\n",
    "    answer *= i\n",
    "    \n",
    "print(answer)"
   ]
  },
  {
   "cell_type": "code",
   "execution_count": 25,
   "metadata": {},
   "outputs": [
    {
     "name": "stdout",
     "output_type": "stream",
     "text": [
      "90\n"
     ]
    }
   ],
   "source": [
    "# itertools를 활용한 풀이\n",
    "from itertools import permutations\n",
    "\n",
    "N = 10\n",
    "M = 2\n",
    "answer = len(list(permutations(range(N), M)))\n",
    "print(answer)"
   ]
  },
  {
   "cell_type": "code",
   "execution_count": 26,
   "metadata": {},
   "outputs": [
    {
     "name": "stdout",
     "output_type": "stream",
     "text": [
      "90\n"
     ]
    }
   ],
   "source": [
    "# 백트래킹을 활용한 풀이\n",
    "N = 10\n",
    "M = 2\n",
    "num_list = range(N)\n",
    "cur_list = []\n",
    "answer = 0\n",
    "\n",
    "def backtracking():\n",
    "    global answer, cur_list\n",
    "\n",
    "    if len(cur_list) == M:\n",
    "        answer += 1\n",
    "        return\n",
    "\n",
    "    for i in num_list:\n",
    "        if i not in cur_list:\n",
    "            cur_list.append(i)\n",
    "            backtracking()\n",
    "            cur_list.pop()\n",
    "\n",
    "backtracking()\n",
    "print(answer)"
   ]
  },
  {
   "cell_type": "markdown",
   "metadata": {},
   "source": [
    "# Template - 중복 조합\n",
    "\n",
    "연습문제\n",
    "\n",
    "아이스크림 종류가 초코, 바닐라, 민트 가있다. 3가지 아이스크림을 살때 구매 할 수 있는 방법의 수는?(같은 종류의 아이스크림을 여러개 구입할 수 있다.)"
   ]
  },
  {
   "cell_type": "code",
   "execution_count": 5,
   "metadata": {},
   "outputs": [
    {
     "name": "stdout",
     "output_type": "stream",
     "text": [
      "10\n"
     ]
    }
   ],
   "source": [
    "# 단순 수학 구현\n",
    "N = 3\n",
    "M = 3\n",
    "\n",
    "k = N + M - 1\n",
    "answer = 1\n",
    "for i in range(k, k-M, -1):\n",
    "    answer *= i\n",
    "\n",
    "for i in range(M, 1, -1):\n",
    "    answer //= i\n",
    "\n",
    "print(answer)"
   ]
  },
  {
   "cell_type": "code",
   "execution_count": 30,
   "metadata": {},
   "outputs": [
    {
     "name": "stdout",
     "output_type": "stream",
     "text": [
      "10\n"
     ]
    }
   ],
   "source": [
    "# itertools를 활용한 풀이방법\n",
    "from itertools import combinations_with_replacement\n",
    "\n",
    "N = 3\n",
    "M = 3\n",
    "answer = len(list(combinations_with_replacement(range(N), M)))\n",
    "print(answer)"
   ]
  },
  {
   "cell_type": "code",
   "execution_count": 33,
   "metadata": {},
   "outputs": [
    {
     "name": "stdout",
     "output_type": "stream",
     "text": [
      "10\n"
     ]
    }
   ],
   "source": [
    "# 백트래킹을 이용한 풀이방법\n",
    "N = 3\n",
    "M = 3\n",
    "\n",
    "num_list = range(N)\n",
    "cur_list = []\n",
    "answer = 0\n",
    "\n",
    "def backtracking(k):\n",
    "    global cur_list, answer\n",
    "\n",
    "    if len(cur_list) == M:\n",
    "        answer += 1\n",
    "        return\n",
    "\n",
    "    for i in num_list[k:]:\n",
    "        cur_list.append(i)\n",
    "        backtracking(i)\n",
    "        cur_list.pop()\n",
    "\n",
    "backtracking(0)\n",
    "print(answer)\n"
   ]
  },
  {
   "cell_type": "markdown",
   "metadata": {},
   "source": [
    "# Template - 중복 순열\n",
    "\n",
    "연습 문제\n",
    "\n",
    "주사위를 3번 던질때 나올 수 있는 모든 경우의 수는?"
   ]
  },
  {
   "cell_type": "code",
   "execution_count": 6,
   "metadata": {},
   "outputs": [
    {
     "name": "stdout",
     "output_type": "stream",
     "text": [
      "216\n"
     ]
    }
   ],
   "source": [
    "# 단순 수학 구현\n",
    "N = 6\n",
    "M = 3\n",
    "\n",
    "answer = N ** M\n",
    "print(answer)"
   ]
  },
  {
   "cell_type": "code",
   "execution_count": 35,
   "metadata": {},
   "outputs": [
    {
     "name": "stdout",
     "output_type": "stream",
     "text": [
      "216\n"
     ]
    }
   ],
   "source": [
    "# itertools를 활용한 풀이방법\n",
    "from itertools import product\n",
    "N = 6\n",
    "M = 3\n",
    "\n",
    "answer = len(list(product(range(N), repeat = M)))\n",
    "print(answer)"
   ]
  },
  {
   "cell_type": "code",
   "execution_count": 36,
   "metadata": {},
   "outputs": [
    {
     "name": "stdout",
     "output_type": "stream",
     "text": [
      "216\n"
     ]
    }
   ],
   "source": [
    "# 백트래킹을 활용한 풀이방법\n",
    "N = 6\n",
    "M = 3\n",
    "\n",
    "num_list = range(N)\n",
    "cur_list = []\n",
    "answer = 0\n",
    "\n",
    "def backtracking():\n",
    "    global answer, cur_list\n",
    "\n",
    "    if len(cur_list) == M:\n",
    "        answer += 1\n",
    "        return\n",
    "\n",
    "    for i in num_list:\n",
    "        cur_list.append(i)\n",
    "        backtracking()\n",
    "        cur_list.pop()\n",
    "\n",
    "backtracking()\n",
    "print(answer)\n"
   ]
  },
  {
   "cell_type": "code",
   "execution_count": null,
   "metadata": {},
   "outputs": [],
   "source": []
  }
 ],
 "metadata": {
  "kernelspec": {
   "display_name": "base",
   "language": "python",
   "name": "python3"
  },
  "language_info": {
   "codemirror_mode": {
    "name": "ipython",
    "version": 3
   },
   "file_extension": ".py",
   "mimetype": "text/x-python",
   "name": "python",
   "nbconvert_exporter": "python",
   "pygments_lexer": "ipython3",
   "version": "3.10.14"
  }
 },
 "nbformat": 4,
 "nbformat_minor": 2
}
