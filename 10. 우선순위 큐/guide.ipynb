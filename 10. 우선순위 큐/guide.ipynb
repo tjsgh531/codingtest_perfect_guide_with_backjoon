{
 "cells": [
  {
   "cell_type": "markdown",
   "metadata": {},
   "source": [
    "# 우선순위 큐\n",
    "\n",
    "heaq라이브러리 사용법을 익혀봅시다.\n",
    "\n",
    "#### 목차\n",
    "\n",
    "|문제|난이도|중요도|문제유형|내용|\n",
    "|---|---|---|---|-----|\n",
    "|최대힙|★☆☆☆☆|★★★☆☆|최대 힙|heapq라이브러리 사용법을 익혀 봅시다.|\n",
    "|최소힙|★☆☆☆☆|★★★☆☆|최소 힙|heapq라이브러리 사용법을 익혀 봅시다.|\n",
    "|절대값 힙|★☆☆☆☆|★★★☆☆|최소 힙|heapq에 튜플 형태로 저장 할 수 있습니다.|"
   ]
  },
  {
   "cell_type": "code",
   "execution_count": null,
   "metadata": {},
   "outputs": [],
   "source": []
  }
 ],
 "metadata": {
  "language_info": {
   "name": "python"
  }
 },
 "nbformat": 4,
 "nbformat_minor": 2
}
