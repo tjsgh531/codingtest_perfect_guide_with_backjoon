{
 "cells": [
  {
   "cell_type": "markdown",
   "metadata": {},
   "source": [
    "# 동적 계획법 2\n",
    "\n",
    "dp의 어려운 문제만 모아놓은 파트입니다.\n",
    "고난도 dp는 대부분 다차원 dp 유형입니다. \n",
    "다차원 dp에 대해 연습해봅시다. \n",
    "\n",
    "\n",
    "#### 목차\n",
    "\n",
    "|문제|난이도|중요도|문제유형|내용|\n",
    "|---|---|---|---|-----|\n",
    "|파일합치기|★★★★★|★★★★★|다차원DP, 크누스 최적화|다차원 DP는 정의가 중요해. 심지어 이문제는 Knuth Optimization(크누스 최적화)까지 적용해야 시간초과 안걸림.|\n",
    "|행렬곱셈|★★★★★|★★★★☆|다차원DP|다차원 DP는 정의가 중요해. Knuth Optimization(크누스 최적화)가 적용 안되는 이유를 고민해보자.|\n",
    "|내리막길|★★★★★|★★★★★|다차원DP, 메모이제이션|해당 칸에 도달하는 경우의 수는 BFS, 도착점에 도달한 경로의 수는 DFS(회귀) 메모이제이션을 사용하자.|\n",
    "|양팔저울|★★★★☆|★★★★★|다차원DP|쫄지마!!! 배낭문제랑 똑같아!! DP를 어떻게 잘 정의하는가에 따라 성공유무가 갈렸다.|\n",
    "|동전1|★★★★☆|★★★★★|DP|쫄지마!!!|\n",
    "|앱|★★★★☆|★★★★★|DP|중복을 피하기 위해서 뒤에서 부터 체크하는것이 핵심. 비용이 0인 것은 무조건 삭제하는 것이 좋다.|\n",
    "\n"
   ]
  },
  {
   "cell_type": "markdown",
   "metadata": {},
   "source": [
    "# Knuth Optimization : 크누스 최적화\n",
    "\n",
    "dp[i][j] = dp[i][k] + dp[k+1][j] 일때,\n",
    "\n",
    "최적을 만족하는 k는 dp[i][j-1]의 최적 k 이상 dp[i+1][j]의 최적 k 이하이다."
   ]
  },
  {
   "cell_type": "code",
   "execution_count": null,
   "metadata": {},
   "outputs": [],
   "source": [
    "def knuth_optimization(n, C):\n",
    "    # DP 테이블과 최적 분할점 테이블 초기화\n",
    "    dp = [[float('inf')] * (n + 1) for _ in range(n + 1)]\n",
    "    opt = [[0] * (n + 1) for _ in range(n + 1)]\n",
    "\n",
    "    # 기본 경우 초기화\n",
    "    for i in range(1, n + 1):\n",
    "        dp[i][i] = 0\n",
    "        opt[i][i] = i\n",
    "\n",
    "    # 구간 길이를 2부터 n까지 증가시키며 계산\n",
    "    for l in range(2, n + 1):\n",
    "        for i in range(1, n - l + 2):\n",
    "            j = i + l - 1\n",
    "            # 최적 분할점 범위 제한\n",
    "            for k in range(opt[i][j-1], min(opt[i+1][j], j) + 1):\n",
    "                cost = dp[i][k] + dp[k+1][j] + C[i][j]\n",
    "                if cost < dp[i][j]:\n",
    "                    dp[i][j] = cost\n",
    "                    opt[i][j] = k\n",
    "\n",
    "    return dp[1][n]"
   ]
  },
  {
   "cell_type": "markdown",
   "metadata": {},
   "source": [
    "# 메모리제이션"
   ]
  },
  {
   "cell_type": "code",
   "execution_count": null,
   "metadata": {},
   "outputs": [],
   "source": []
  }
 ],
 "metadata": {
  "language_info": {
   "name": "python"
  }
 },
 "nbformat": 4,
 "nbformat_minor": 2
}
