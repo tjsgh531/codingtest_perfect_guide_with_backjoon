{
 "cells": [
  {
   "cell_type": "markdown",
   "metadata": {},
   "source": [
    "# 심화2\n",
    "\n",
    "구현 문제가 주된 문제이다. 그 안에서도 해쉬와 sorted 함수를 이용해 푸는 문제들이 참 좋았다. 익혀두자.\n",
    "Counter 라이브러리 또한 실무에서도 많이 사용하고 코딩 테스트에서도 간혹 사용할 일이 생길 수 있으니 익혀두자.\n",
    "\n",
    "#### 목차\n",
    "\n",
    "|문제|난이도|중요도|문제유형|내용|\n",
    "|---|---|---|---|-----|\n",
    "|약수|★☆☆☆☆|★☆☆☆☆|구현|안풀어도 될 쓰레기 문제|\n",
    "|인사성 밝은 곰곰이|★★☆☆☆|★★★★☆|해쉬|리스트와 딕셔너리의 차이를 알려주는 문제. 검색은 역시 해쉬|\n",
    "|붙임성 좋은 총총이|★★☆☆☆|★★★★★|해쉬|해쉬는 이렇게 사용하는 것이다 를 알려주는 문제. 검색은 역시 해쉬|\n",
    "|통계학|★★★☆☆|★★★★☆|구현|최빈값 구현이 참 어렵다. 이 문제를 통해 Counter 라이브러리 사용법도 익혀두자|\n",
    "|영단어 암기는 괴로워|★★★☆☆|★★★★★|정렬|sorted 함수 응용문제. 이 문제를 통해 sorted 함수를 제대로 익혀두자|\n"
   ]
  },
  {
   "cell_type": "code",
   "execution_count": 3,
   "metadata": {},
   "outputs": [
    {
     "name": "stdout",
     "output_type": "stream",
     "text": [
      "dict_items([(1, 3), (2, 1), (3, 5), (4, 0), (5, 1)])\n",
      "dict_values([3, 1, 5, 0, 1])\n",
      "dict_keys([1, 2, 3, 4, 5])\n",
      "3\n",
      "None\n"
     ]
    }
   ],
   "source": [
    "# 딕셔너리(해쉬) 사용법\n",
    "num_dict = {1 : 3, 2: 1, 3: 5, 4: 0, 5: 1}\n",
    "\n",
    "print(num_dict.items())\n",
    "print(num_dict.values())\n",
    "print(num_dict.keys())\n",
    "print(num_dict.get(1))\n",
    "print(num_dict.get(10))"
   ]
  },
  {
   "cell_type": "code",
   "execution_count": 2,
   "metadata": {},
   "outputs": [
    {
     "name": "stdout",
     "output_type": "stream",
     "text": [
      "Counter({2: 4, 3: 2, 5: 2, 1: 2, 7: 1, 4: 1, 6: 1})\n"
     ]
    }
   ],
   "source": [
    "# collections - Count 사용법\n",
    "from collections import Counter\n",
    "\n",
    "num_list = [3, 2, 2, 7, 4, 5, 5, 6, 2, 1, 1, 2, 3]\n",
    "\n",
    "num_count = Counter(num_list)\n",
    "print(num_count)"
   ]
  },
  {
   "cell_type": "code",
   "execution_count": 7,
   "metadata": {},
   "outputs": [
    {
     "name": "stdout",
     "output_type": "stream",
     "text": [
      "[1, 1, 2, 2, 2, 2, 3, 3, 4, 5, 5, 6, 7]\n",
      "[7, 6, 5, 5, 4, 3, 3, 2, 2, 2, 2, 1, 1]\n",
      "[(4, 0), (2, 1), (5, 1), (1, 3), (3, 5)]\n",
      "[(3, 5), (1, 3), (2, 1), (5, 1), (4, 0)]\n"
     ]
    }
   ],
   "source": [
    "# sorted 함수 사용법\n",
    "num_dict = {1 : 3, 2: 1, 3: 5, 4: 0, 5: 1}\n",
    "num_list = [3, 2, 2, 7, 4, 5, 5, 6, 2, 1, 1, 2, 3]\n",
    "\n",
    "asc_sorted_num_list = sorted(num_list)\n",
    "des_sorted_num_list = sorted(num_list, reverse=True)\n",
    "key_sorted_num_dict = sorted(num_dict.items(), key=lambda x : x[1])\n",
    "keys_sorted_num_dict = sorted(num_dict.items(), key = lambda x : (-x[1], x[0]))\n",
    "\n",
    "print(asc_sorted_num_list)\n",
    "print(des_sorted_num_list)\n",
    "print(key_sorted_num_dict)\n",
    "print(keys_sorted_num_dict)"
   ]
  },
  {
   "cell_type": "code",
   "execution_count": null,
   "metadata": {},
   "outputs": [],
   "source": []
  }
 ],
 "metadata": {
  "kernelspec": {
   "display_name": "base",
   "language": "python",
   "name": "python3"
  },
  "language_info": {
   "codemirror_mode": {
    "name": "ipython",
    "version": 3
   },
   "file_extension": ".py",
   "mimetype": "text/x-python",
   "name": "python",
   "nbconvert_exporter": "python",
   "pygments_lexer": "ipython3",
   "version": "3.10.14"
  }
 },
 "nbformat": 4,
 "nbformat_minor": 2
}
