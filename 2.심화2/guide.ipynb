{
 "cells": [
  {
   "cell_type": "markdown",
   "metadata": {},
   "source": [
    "# 심화2\n",
    "\n",
    "#### 목차와 구분\n",
    "- 약수 : 구현\n",
    "- 인사성 밝은 곰곰이 : 구현 - 해쉬\n",
    "- 붙임성 좋은 총총이 : 구현 - 해쉬\n",
    "- 통계학 : 구현 - statistics, collections\n",
    "- 영어단어 암기는 괴로워 : 구현 - sorted\n",
    "\n",
    "전체적으로 심화2는 구현 문제로 이루어져 있다. 구현은 문제 이해도와 코드 구현을 보는 문제들이 주를 이룬다. \n",
    "'인사성 밝은 곰곰이'와 '붙임성 좋은 총총이' 문제는 딕셔너리(해쉬)를 이용하여 검색을 하는 방법을 익힐 수 있다.\n",
    "'통계학' 문제는 특수한 라이브러리들을 알고 풀면 구현이 쉽지만 충분히 라이브러리 없이도 구현이 가능하다. 오히려 라이브러리를 활용한 것들이 시간초과를 일으키거나 풀리더라도 시간 복잡도 측면에서 불리했다.\n",
    "'영어단어 암기는 괴로워' 문제는 sorted 함수의 사용법을 응용한 문제로 sorted 함수를 이해하고 응용하기 좋은 문제이다.\n",
    "\n",
    "#### 이번 단원 핵심 \n",
    "1. 딕셔너리(해쉬) 사용법 익혀두자\n",
    "2. collections라이브러리의 Counter 함수 익혀두자.\n",
    "3. sorted 함수 사용법 익혀두자."
   ]
  },
  {
   "cell_type": "code",
   "execution_count": 3,
   "metadata": {},
   "outputs": [
    {
     "name": "stdout",
     "output_type": "stream",
     "text": [
      "dict_items([(1, 3), (2, 1), (3, 5), (4, 0), (5, 1)])\n",
      "dict_values([3, 1, 5, 0, 1])\n",
      "dict_keys([1, 2, 3, 4, 5])\n",
      "3\n",
      "None\n"
     ]
    }
   ],
   "source": [
    "# 딕셔너리(해쉬) 사용법\n",
    "num_dict = {1 : 3, 2: 1, 3: 5, 4: 0, 5: 1}\n",
    "\n",
    "print(num_dict.items())\n",
    "print(num_dict.values())\n",
    "print(num_dict.keys())\n",
    "print(num_dict.get(1))\n",
    "print(num_dict.get(10))"
   ]
  },
  {
   "cell_type": "code",
   "execution_count": 2,
   "metadata": {},
   "outputs": [
    {
     "name": "stdout",
     "output_type": "stream",
     "text": [
      "Counter({2: 4, 3: 2, 5: 2, 1: 2, 7: 1, 4: 1, 6: 1})\n"
     ]
    }
   ],
   "source": [
    "# collections - Count 사용법\n",
    "from collections import Counter\n",
    "\n",
    "num_list = [3, 2, 2, 7, 4, 5, 5, 6, 2, 1, 1, 2, 3]\n",
    "\n",
    "num_count = Counter(num_list)\n",
    "print(num_count)"
   ]
  },
  {
   "cell_type": "code",
   "execution_count": 7,
   "metadata": {},
   "outputs": [
    {
     "name": "stdout",
     "output_type": "stream",
     "text": [
      "[1, 1, 2, 2, 2, 2, 3, 3, 4, 5, 5, 6, 7]\n",
      "[7, 6, 5, 5, 4, 3, 3, 2, 2, 2, 2, 1, 1]\n",
      "[(4, 0), (2, 1), (5, 1), (1, 3), (3, 5)]\n",
      "[(3, 5), (1, 3), (2, 1), (5, 1), (4, 0)]\n"
     ]
    }
   ],
   "source": [
    "# sorted 함수 사용법\n",
    "num_dict = {1 : 3, 2: 1, 3: 5, 4: 0, 5: 1}\n",
    "num_list = [3, 2, 2, 7, 4, 5, 5, 6, 2, 1, 1, 2, 3]\n",
    "\n",
    "asc_sorted_num_list = sorted(num_list)\n",
    "des_sorted_num_list = sorted(num_list, reverse=True)\n",
    "key_sorted_num_dict = sorted(num_dict.items(), key=lambda x : x[1])\n",
    "keys_sorted_num_dict = sorted(num_dict.items(), key = lambda x : (-x[1], x[0]))\n",
    "\n",
    "print(asc_sorted_num_list)\n",
    "print(des_sorted_num_list)\n",
    "print(key_sorted_num_dict)\n",
    "print(keys_sorted_num_dict)"
   ]
  },
  {
   "cell_type": "code",
   "execution_count": null,
   "metadata": {},
   "outputs": [],
   "source": []
  }
 ],
 "metadata": {
  "kernelspec": {
   "display_name": "base",
   "language": "python",
   "name": "python3"
  },
  "language_info": {
   "codemirror_mode": {
    "name": "ipython",
    "version": 3
   },
   "file_extension": ".py",
   "mimetype": "text/x-python",
   "name": "python",
   "nbconvert_exporter": "python",
   "pygments_lexer": "ipython3",
   "version": "3.10.14"
  }
 },
 "nbformat": 4,
 "nbformat_minor": 2
}
