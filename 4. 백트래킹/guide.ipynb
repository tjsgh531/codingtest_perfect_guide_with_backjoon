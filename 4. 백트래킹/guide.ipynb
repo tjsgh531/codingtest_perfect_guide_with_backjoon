{
 "cells": [
  {
   "cell_type": "markdown",
   "metadata": {},
   "source": [
    "# 백트래킹\n",
    "\n",
    "코딩테스트를 준비한다면 무조건 알아야하는 단원.\n",
    "\n",
    "재귀는 백트래킹을 위해 존재한다해도 과언이 아니다. \n",
    "\n",
    "DP, 백트래킹, itertools 가 서로 쓰임이 유사해서 어떤 문제에 무엇을 적용할지 헷갈리는 경우가 많다.\n",
    "\n",
    "itertools는 순열, 조합, 중복 순열, 중복 조합 문제를 풀때 사용된다.\n",
    "\n",
    "백트래킹은 이전 모든 선택이 현재 선택에 영향을 미칠때 사용된다. 따라서 itertools로 풀 수 있는 모든 문제를 백트래킹으로 풀 수있다. 하지만 구현 난이도가 itertools가 훨씬 쉬워서 itertools로 해결 할 수있으면 itertools로 해결하는 것이 편하다.\n",
    "\n",
    "DP는 이전 몇가지 선택이 현재 선택에 영향을 미칠때 사용된다.\n",
    "\n",
    "이렇게 설명해도 직접 적용하고 그 차이를 느끼기 전까지는 헷갈릴 뿐이니 문제를 통해서 확실히 구분을 명확히 하자.\n",
    "\n",
    "\n",
    "#### 목차\n",
    "\n",
    "\n",
    "|문제|난이도|중요도|내용|\n",
    "|---|---|---|-----|\n",
    "|N과M(1)|★☆☆☆☆|★★★★★|백트래킹의 기본 문제. template를 그대로 따라서 풀수 있다. 순열 문제라 itertools로 풀 수 있다.|\n",
    "|N과M(2)|★☆☆☆☆|★★★★★|백트래킹의 기본 문제 + 아주 살짝 응용. template를 응용하여 풀수 있다. 조합 문제라 itertools로 풀 수 있다.|\n",
    "|N과M(3)|★☆☆☆☆|★★★★★|백트래킹의 기본 문제 + 아주 살짝 응용. template를 응용하여 풀수 있다. 중복 순열 문제라 itertools로 풀 수 있다.|\n",
    "|N과M(4)|★☆☆☆☆|★★★★★|백트래킹의 기본 문제 + 아주 살짝 응용. template를 응용하여 풀수 있다. 중복 조합 문제라 itertools로 풀 수 있다.|\n",
    "|N-Queen|★★★★☆|★★★★★|백트래킹 응용 문제. 새로운 값을 넣을 때 조건이 조금 까다롭다. python으로는 시간초과가 발생한다. pypy3로 제출하자.|\n",
    "|스도쿠|★★★★☆|★★★★★| 백트래킹 응용 문제. 새로운 값을 넣을 때 조건이 많이 까다롭다. 해당 문제또한 pypy3로 제출해야하는 문제이다.|\n",
    "|연산자 끼워넣기|★★★★☆|★★★★☆| 백트래킹 응용 문제, 함수를 활용하여 문제를 깔끔하게 풀자.|\n",
    "|스타트와 링크|★★★★☆|★★★☆☆|백트래킹 응용 문제. 팀의 조합을 묻는 문제이기에 itertools를 활용하여 해결 할 수도 있다.|\n",
    "\n",
    "\n"
   ]
  },
  {
   "cell_type": "markdown",
   "metadata": {},
   "source": [
    "# Template - 백트래킹\n",
    "\n",
    "기본적인 백트래킹 template는 외워두자.\n",
    "\n",
    "N과 M 시리즈들을 모두 외우면 template가 자동적으로 암기 될 것이다."
   ]
  },
  {
   "cell_type": "code",
   "execution_count": null,
   "metadata": {},
   "outputs": [],
   "source": [
    "results = []\n",
    "\n",
    "def backtracking():\n",
    "    global results\n",
    "\n",
    "    # 조건이 맞으면 재귀를 멈춰!\n",
    "    if len(results) == n:\n",
    "        return\n",
    "\n",
    "    for i in range(1, m+1):\n",
    "        # 어떤 조건이 맞는 수만 추가\n",
    "        if i not in results:\n",
    "            results.append(i)\n",
    "            backtraking()\n",
    "            results.pop()"
   ]
  },
  {
   "cell_type": "markdown",
   "metadata": {},
   "source": [
    "# Template - DP\n",
    "\n",
    "아래 template는 dp의 가장 단순한 문제인 피보나치 수열을 dp로 구현한 것이다.\n",
    "\n",
    "dp는 점화식 문제가 기본문제이고\n",
    "\n",
    "2차 배열을 이용한 dp 문제들이 심화 문제로 나온다.\n",
    "\n",
    "해당 문제들은 dp에서 더 자세히 다루자."
   ]
  },
  {
   "cell_type": "code",
   "execution_count": null,
   "metadata": {},
   "outputs": [],
   "source": [
    "dp = [0, 1, ]\n",
    "\n",
    "for i in range(2, n):\n",
    "    item = dp[i-1] + dp[i-2]\n",
    "    dp.append(item)\n",
    "\n",
    "print(dp[-1])"
   ]
  },
  {
   "cell_type": "markdown",
   "metadata": {},
   "source": []
  }
 ],
 "metadata": {
  "language_info": {
   "name": "python"
  }
 },
 "nbformat": 4,
 "nbformat_minor": 2
}
