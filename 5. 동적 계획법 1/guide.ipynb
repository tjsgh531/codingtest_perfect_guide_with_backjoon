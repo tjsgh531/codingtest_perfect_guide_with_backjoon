{
 "cells": [
  {
   "cell_type": "markdown",
   "metadata": {},
   "source": [
    "# 동적 계획법 1\n",
    "\n",
    "DP(Dynamic Programming)으로 잘 알려진 DP는 코딩테스트에 많이 제출되는 문제유형이다.\n",
    "\n",
    "DP의 모든 문제는 backtracking으로 해결 가능하다.\n",
    "\n",
    "하지만 backtracking으로 해결 할 경우 시간 초과 문제가 빈번히 발생할 것이다.\n",
    "\n",
    "시간 복잡도 면에서 동적 계획법이 압도적으로 유리하기에 backtracking으로 문제 해결 했는데 시간 초과 문제를 만났다면 DP를 의심해볼 가치가 있다.\n",
    "\n",
    "DP의 유형은 점화식 / 조건 dp / 다차원 dp 가 있다.\n",
    "\n",
    "DP의 핵심은 DP를 어떻게 정의하는지, 예외 경우를 얼마나 잘 찾는지에 따라 해결 유무가 달려있다.\n",
    "\n",
    "#### 목차\n",
    "\n",
    "|문제|난이도|중요도|문제유형|내용|\n",
    "|---|---|---|---|-----|\n",
    "|알고리즘 수업 - 피보나치 수 1|★☆☆☆☆|★☆☆☆☆|점화식|점화식의 동적 계획법 기본 template을 활용하는 문제이다. template를 연습할 수 있긴 하나 문제 퀄리티는 많이 아쉽다.|\n",
    "|신나는 함수 실행|★★★☆☆|★★☆☆☆|다차원 dp|이미 재귀를 통해 계산된 것들을 저장해둬서 다음 재귀에 시간 복잡도를 줄이는 방법. 다차원 dp를 설정하는 문제.|\n",
    "|01타일|★★☆☆☆|★★★★☆|점화식|점화식 dp template를 연습하기 좋은 문제. 타일의 규칙만 눈치채면 쉽게 풀 수 있는 문제.|\n",
    "|파도반 수열|★★☆☆☆|★★★★☆|점화식|점화식 dp template를 연습하기 좋은 문제. 리스트 시작은 0번째 부터이다.|\n",
    "|연속합|★★☆☆☆|★★☆☆☆|조건 dp|특정 조건이 맞는 수들만 저장하는 dp|\n",
    "|RGB거리|★★★☆☆|★★★★★|다차원 dp|다차원 dp의 대표문제. 문제를 암기 할 정도로 풀수 있어야 한다.|\n",
    "|정수삼각형|★★★☆☆|★★★★★|다차원 dp|다차원 dp의 대표문제. 꼭 풀자!!|\n",
    "|계단 오르기|★★★☆☆|★★★★★|다차원 dp|다차원 dp의 핵심 문제. n==1 이 될 수 있음에 유의하자.|\n",
    "|1로 만들기|★★★☆☆|★★★★☆|조건 dp|특정 조건을 만족하는 것들만 뽑아서 관계만들기|\n",
    "|쉬운계단수|★★☆☆☆|★★★★☆|다차원 dp|dp의 정의를 어떻게 하는지 중요! 1000000000 나누는 조건 잊지 말자|\n",
    "|포도주시식|★★★★☆|★★★★★|다차원 dp|계단 오르기 문제와 유사하지만 특수한 예외 케이스가 존재한다. 처음 풀 때 특정 예외를 고려해서 코드를 짜면 천재!|\n",
    "|가장 긴 증가하는 부분수열|★★★★☆|★★★★★|조건 dp|암기해야 하는 문제! 너무 많이 응용되고 중요한 문제이다.|\n",
    "|가장 긴 바이토닉 수열|★★★★★|★★★★★|조건 dp| 가장 긴 증가하는 부분 수열 응용문제. 리스트 뒤집기|\n",
    "|전깃줄|★★★★☆|★★★★★|조건 dp|가장 긴 증가하는 부분 수열 응용문제. 전깃줄이 겹치지 않으려면 계속 증가하는 값들의 전기줄만 남기면 된다.|\n",
    "|LCS|★★★★★|★★★★★|다차원 dp|고난도 다차원 dp 문제. dp를 어떻게 정의하냐가 중요.|\n",
    "|평범한 배낭|★★★★★|★★★★★|조건 dp, 다차원 dp|dp 정의를 어떻게 하느냐, 예외상황을 얼마나 잘 생각하느냐에 따라 문제 해결 유무가 달려있다.|\n"
   ]
  },
  {
   "cell_type": "markdown",
   "metadata": {},
   "source": [
    "# Template - 점화식 dp\n",
    "\n",
    "점화식이란 규칙적으로 이전 수들을 더하여 현재 값을 도출하는 것을 의미한다.\n",
    "\n",
    "대표적인 점화식이 피보나치 수열이 있다.\n",
    "\n",
    "점화식은 재귀로 풀 수 있지만 dp로 해결하는 것이 훨씬 시간 복잡도 측면에서 이득이 크다."
   ]
  },
  {
   "cell_type": "code",
   "execution_count": 2,
   "metadata": {},
   "outputs": [
    {
     "name": "stdout",
     "output_type": "stream",
     "text": [
      "55\n"
     ]
    }
   ],
   "source": [
    "# dp[i] = dp[i-1] + dp[i-2]\n",
    "n = 10\n",
    "dp = [0] * (n+1)\n",
    "dp[1] = 1\n",
    "\n",
    "for i in range(2, n+1):\n",
    "    dp[i] = dp[i-1] + dp[i-2] # 재귀식\n",
    "\n",
    "print(dp[n])"
   ]
  },
  {
   "cell_type": "markdown",
   "metadata": {},
   "source": [
    "# Template - 조건 dp\n",
    "\n",
    "조건 dp는 dp를 어떻게 정의하느냐가 가장 중요하다.\n",
    "\n",
    "꼭 주석으로 dp의 정의를 적고 시작하자.\n",
    "\n",
    "조건 dp는 template가 따로 존재하는 것이 아니라 dp 정의에 따라 반복문에 if문을 통해 정의에 따른 저장을 한다.\n",
    "\n",
    "아래 코드는 조건 dp의 대표문제 연속합 문제 해결 코드이다."
   ]
  },
  {
   "cell_type": "code",
   "execution_count": 4,
   "metadata": {},
   "outputs": [
    {
     "name": "stdout",
     "output_type": "stream",
     "text": [
      "33\n"
     ]
    }
   ],
   "source": [
    "n = 10\n",
    "num_list = [10, -4, 3, 1, 5, 6, -35, 12, 21, -1]\n",
    "\n",
    "# dp[i] : i번째 수까지 최대 연속합\n",
    "dp = [0] * n\n",
    "dp[0] = num_list[0]\n",
    "\n",
    "for idx in range(1, n):\n",
    "    cur_num = num_list[idx]\n",
    "\n",
    "    if dp[idx-1] > 0:\n",
    "        dp[idx] = cur_num + dp[idx-1]\n",
    "    else:\n",
    "        dp[idx] = cur_num\n",
    "\n",
    "print(max(dp))"
   ]
  },
  {
   "cell_type": "markdown",
   "metadata": {},
   "source": [
    "# Template - 가장 긴 부분 수열\n",
    "\n",
    "가장 긴 부분 수열을 응용한 문제를 출제하는 문제가 상당히 많다.\n",
    "\n",
    "따라서 가장 긴 부분 수열을 dp 로해결하는 코드 자체를 암기해 두는 것이 좋다."
   ]
  },
  {
   "cell_type": "code",
   "execution_count": 6,
   "metadata": {},
   "outputs": [
    {
     "name": "stdout",
     "output_type": "stream",
     "text": [
      "4\n"
     ]
    }
   ],
   "source": [
    "n = 6\n",
    "num_list = [10, 20, 10, 30, 20, 50]\n",
    "\n",
    "# dp[i] : i번째 수를 포함한 가장 긴 부분 수열 길이\n",
    "dp = [1] * n\n",
    "\n",
    "for i in range(1, n):\n",
    "    cur_num = num_list[i]\n",
    "    for j in range(i):\n",
    "        pre_num = num_list[j]\n",
    "        \n",
    "        if pre_num < cur_num:\n",
    "            dp[i] = max(dp[i], dp[j] + 1)\n",
    "\n",
    "print(max(dp))\n"
   ]
  },
  {
   "cell_type": "markdown",
   "metadata": {},
   "source": [
    "# Template - 다차원 dp\n",
    "\n",
    "다차원 dp는 조건 dp의 고난도 버젼이다.\n",
    "\n",
    "여러 상황들을 저장해 둬야 할 때 많이 사용한다.\n",
    "\n",
    "조건 dp의 고난도 버젼이기에 dp의 정의가 너무나도 중요하다.\n",
    "\n",
    "이또한 따라 template가 고정되어 있지 않지만 정의에 따라 유동적으로 if문을 사용하여 해결하자.\n",
    "\n",
    "아래 코드는 다차원 dp의 대표문제 RGB거리 문제의 해결 코드이다."
   ]
  },
  {
   "cell_type": "code",
   "execution_count": 7,
   "metadata": {},
   "outputs": [
    {
     "name": "stdout",
     "output_type": "stream",
     "text": [
      "96\n"
     ]
    }
   ],
   "source": [
    "N = 3\n",
    "prices = [[26, 40, 83], [49, 60, 57], [13, 89, 99]]\n",
    "\n",
    "# dp[i][j] : i번째 집을 j색으로 칠 할때 최솟값\n",
    "# dp[i][j] = min(dp[i-1][k], dp[i-1][h]) + prices[i][j]\n",
    "dp = [[0] * 3 for _ in range(N)]\n",
    "dp[0] = prices[0]\n",
    "\n",
    "for i in range(1, N):\n",
    "    for j in range(3):\n",
    "        another_colors = [k for k in range(3) if k != j]\n",
    "        dp[i][j] = min(dp[i-1][another_colors[0]], dp[i-1][another_colors[1]]) + prices[i][j]\n",
    "\n",
    "print(min(dp[-1]))"
   ]
  },
  {
   "cell_type": "code",
   "execution_count": null,
   "metadata": {},
   "outputs": [],
   "source": []
  }
 ],
 "metadata": {
  "kernelspec": {
   "display_name": "base",
   "language": "python",
   "name": "python3"
  },
  "language_info": {
   "codemirror_mode": {
    "name": "ipython",
    "version": 3
   },
   "file_extension": ".py",
   "mimetype": "text/x-python",
   "name": "python",
   "nbconvert_exporter": "python",
   "pygments_lexer": "ipython3",
   "version": "3.10.14"
  }
 },
 "nbformat": 4,
 "nbformat_minor": 2
}
