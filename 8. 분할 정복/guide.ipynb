{
 "cells": [
  {
   "cell_type": "markdown",
   "metadata": {},
   "source": [
    "# 분할 정복\n",
    "\n",
    "분할 정복의 문제는 큰 문제를 작은 문제로 나눠서 해결한다는 의미이다.\n",
    "재귀와 다를게 없다.\n",
    "board를 잘러서 확인하고 더 자를지 말지 하는 문제들 (색종이 만들기, 쿼드 트리, 종이의 개수)\n",
    "큰 숫자의 곱 연산 또는 수학 공식을 사용하는 문제들(곱셈, 이항계수 3)\n",
    "\n",
    "\n",
    "\n",
    "#### 목차\n",
    "\n",
    "|문제|난이도|중요도|문제유형|내용|\n",
    "|---|---|---|---|-----|\n",
    "|색종이 만들기|★★★☆☆|★★★★★|board자르기|가장 기본적인 문제. template 연습하기 좋음.|\n",
    "|쿼드 트리|★★★☆☆|★★★★☆|board자르기|색종이 만들기 응용 문제. template 연습하기 좋음.|\n",
    "|종이의 개수|★★★☆☆|★★★★☆|board자르기|색종이 만들기 응용 문제. template 연습하기 좋음.|\n",
    "|곱셈|★★★☆☆|★★★★★|제곱의 나머지|큰 수의 곱셈 결과 값에 나머지 구하는 문제. 분할 정복 문제에 가장 응용되기 좋은 기본 문제.|\n",
    "|이항계수 3|★★★★☆|★☆☆☆☆|수학|완전히 수학 문제. 내가 어떻게 페르마의 소정리를 알아...|\n",
    "|행렬 곱셈|★★☆☆☆|★☆☆☆☆||이건 분할 정복 유형이 아니지 않나?? 그냥 구현 문제인데|\n",
    "|행렬 제곱|★★★☆☆|★★★★☆|제곱의 나머지|곱셈 + 행렬 곱셈 을 응용한 문제. 앞선 두 문제의 해결법을 응용하면 바로 풀릴 문제.|\n",
    "|피보나치 수열 6|★★★★☆|★☆☆☆☆|제곱의 나머지|피보나치 수열을 행렬로 푸는 방법을 알아야 풀 수 있다. 공식을 모르는 순간 못 푸는 문제.|\n",
    "|히스토그램에서 가장 큰 직사각형|★★★★★|★★★★☆|분할 정복, 스택|이분 탐색 느낌나... 일단 미치도록 어려운 문제...|\n",
    "\n"
   ]
  },
  {
   "cell_type": "markdown",
   "metadata": {},
   "source": [
    "# Template - board 자르기"
   ]
  },
  {
   "cell_type": "code",
   "execution_count": null,
   "metadata": {},
   "outputs": [],
   "source": [
    "# board가 하나의 숫자로 되어있는지 체크하는 함수\n",
    "def check_board(board):\n",
    "    # 들어있는 것이 하나 밖에 없으면 True 반환\n",
    "    if len(board) == 1:\n",
    "        return True\n",
    "\n",
    "    # 들어있는 것이 여러개면 첫 번째 수와 같은지 하나씩 체크\n",
    "    number = board[0][0]\n",
    "    for row in board:\n",
    "        for elm in row:\n",
    "            if elm != number:\n",
    "                return False\n",
    "    return True\n",
    "\n",
    "def slice_board(board):\n",
    "    global zero_cnt, one_cnt\n",
    "    # board가 하나의 수로 되어 있으면 자를 필요 없음.\n",
    "    number = board[0][0]\n",
    "    if check_board(board): \n",
    "        if number == 0:\n",
    "            zero_cnt += 1\n",
    "        else:\n",
    "            one_cnt += 1\n",
    "        return\n",
    "\n",
    "    # board가 하나의 수로 되어 있지 않으면 잘라야 한다.\n",
    "    nxt_size = len(board) // 2\n",
    "    \n",
    "    upper = board[:nxt_size]\n",
    "    lower = board[nxt_size:]\n",
    "    \n",
    "    upper_left = [row[:nxt_size] for row in upper]\n",
    "    upper_right = [row[nxt_size:] for row in upper]\n",
    "    lower_left = [row[:nxt_size] for row in lower]\n",
    "    lower_right = [row[nxt_size:] for row in lower]\n",
    "\n",
    "    slice_board(upper_left)\n",
    "    slice_board(upper_right)\n",
    "    slice_board(lower_left)\n",
    "    slice_board(lower_right)"
   ]
  },
  {
   "cell_type": "markdown",
   "metadata": {},
   "source": [
    "# Template - 제곱의 나머지\n",
    "\n",
    "b가 짝수 인 경우\n",
    "`(a ** b) % c = ((a ** (b//2) % c) * (a ** (b//2) % c)) % c`\n",
    "\n",
    "b가 홀수 인 경우\n",
    "`(a ** b) % c = ((a ** (b//2) % c) * (a ** (b//2) % c) * a) % c`\n"
   ]
  },
  {
   "cell_type": "code",
   "execution_count": null,
   "metadata": {},
   "outputs": [],
   "source": [
    "def power(a, b, c):\n",
    "    # b 가 1이면 a ** 1이므로 a % c 결과 바로 반환해주면 된다.\n",
    "    if b == 1:\n",
    "        return a % c\n",
    "\n",
    "    temp = power(a, b//2, c)\n",
    "    # b가 짝수이면\n",
    "    if b % 2 == 0:\n",
    "        return (temp * temp) % c\n",
    "    # b가 홀수이면\n",
    "    else:\n",
    "        return (temp * temp * a) %c"
   ]
  }
 ],
 "metadata": {
  "language_info": {
   "name": "python"
  }
 },
 "nbformat": 4,
 "nbformat_minor": 2
}
