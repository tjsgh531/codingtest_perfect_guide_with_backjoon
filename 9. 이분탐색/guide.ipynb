{
 "cells": [
  {
   "cell_type": "markdown",
   "metadata": {},
   "source": [
    "# 이분탐색\n",
    "\n",
    "#### 목차\n",
    "\n",
    "|문제|난이도|중요도|문제유형|내용|\n",
    "|---|---|---|---|-----|\n",
    "|수찾기|★☆☆☆☆|★★★★★|이분탐색_수 찾기, 해쉬|이분탐색의 가장 기본문제. template 연습하기 좋다. 근데 역시 검색은 해쉬가 훨씬 빠르다.|\n",
    "|숫자카드 2|★☆☆☆☆|★★☆☆☆|이분탐색_수 찾기, 해쉬|해쉬가 훨씬 편해요. Counter 사용해서도 해결할 수 있으니 이 문제를 통해 Counter에 대해 연습하자.|\n",
    "|랜선 자르기|★★☆☆☆|★★★★★|이분탐색_원하는 값|이분탐색 찐 문제. 조건에 맞는 원하는 길이(수치)를 구할 때 이분탐색을 많이 사용한다.|\n",
    "|나무 자르기|★★☆☆☆|★★★★★|이분탐색_원하는 값|랜선 자르기와 같은 유형의 문제|\n",
    "|공유기 설치하기|★★★★☆|★★★★★|이분탐색_원하는 값|mid를 어떻게 정의 할지를 잘 생각하자!|\n",
    "|K번째 수|★★★★★|★★★★☆|이분탐색_원하는 값|mid보다 작은 값을 세는 방법이 진짜 이문제의 킬포이다. 그걸 어떻게 생각하냐!!|"
   ]
  },
  {
   "cell_type": "markdown",
   "metadata": {},
   "source": [
    "# Template - 수 찾기"
   ]
  },
  {
   "cell_type": "code",
   "execution_count": null,
   "metadata": {},
   "outputs": [],
   "source": [
    "def binary_search(arr, target):\n",
    "    left = 0\n",
    "    right = len(arr) - 1\n",
    "\n",
    "    while left <= right:\n",
    "        mid = (left + right) // 2\n",
    "        \n",
    "        if arr[mid] == target:\n",
    "            return mid\n",
    "        elif arr[mid] < target:\n",
    "            left = mid + 1\n",
    "        else:\n",
    "            right = mid - 1\n",
    "    \n",
    "    return None"
   ]
  },
  {
   "cell_type": "markdown",
   "metadata": {},
   "source": [
    "# Template - 원하는 값"
   ]
  },
  {
   "cell_type": "code",
   "execution_count": null,
   "metadata": {},
   "outputs": [],
   "source": [
    "def condition(mid):\n",
    "    '''\n",
    "    문제 조건에 따라\n",
    "    mid 값에 따른 값을 반환한다.\n",
    "    '''\n",
    "\n",
    "def binary_search():\n",
    "    left = 0\n",
    "    right = max(arr)\n",
    "\n",
    "    answer = 0\n",
    "    while left <= right:\n",
    "        mid = (left + right) // 2\n",
    "        val = condition(mid)\n",
    "\n",
    "        if val >= wanted_val:\n",
    "            answer = mid\n",
    "            left = mid + 1\n",
    "        else:\n",
    "            right = mid - 1\n",
    "\n",
    "    return answer"
   ]
  }
 ],
 "metadata": {
  "language_info": {
   "name": "python"
  }
 },
 "nbformat": 4,
 "nbformat_minor": 2
}
